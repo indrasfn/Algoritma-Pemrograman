{
  "nbformat": 4,
  "nbformat_minor": 0,
  "metadata": {
    "colab": {
      "provenance": []
    },
    "kernelspec": {
      "name": "python3",
      "display_name": "Python 3"
    },
    "language_info": {
      "name": "python"
    }
  },
  "cells": [
    {
      "cell_type": "markdown",
      "source": [
        "1. Mengelola List"
      ],
      "metadata": {
        "id": "JvoTyNu4vp__"
      }
    },
    {
      "cell_type": "code",
      "execution_count": null,
      "metadata": {
        "id": "lkpsZha6vYJ6",
        "colab": {
          "base_uri": "https://localhost:8080/"
        },
        "outputId": "71e7fc26-8ecd-47cd-f923-33425a98d6a6"
      },
      "outputs": [
        {
          "output_type": "stream",
          "name": "stdout",
          "text": [
            "daftar buah saat ini = ['apel', 'mangga', 'jeruk', 'anggur', 'pisang']\n",
            "\n",
            "daftar buah setelah ditambah semangka = ['apel', 'mangga', 'jeruk', 'anggur', 'pisang', 'semangka']\n",
            "\n",
            "daftar buah setelah ditambah durian = ['apel', 'mangga', 'jeruk', 'durian', 'anggur', 'pisang', 'semangka']\n",
            "\n",
            "daftar buah setelah menghapus mangga = ['apel', 'jeruk', 'durian', 'anggur', 'pisang', 'semangka']\n",
            "\n",
            "daftar buah setelah mengubah pisang = ['apel', 'jeruk', 'durian', 'anggur', 'nanas', 'semangka']\n",
            "\n",
            "daftar tiga buah pertama = apel, jeruk, durian\n"
          ]
        }
      ],
      "source": [
        "buah = ['apel', 'mangga', 'jeruk', 'anggur', 'pisang']\n",
        "\n",
        "print(f'daftar buah saat ini = {buah}\\n')\n",
        "\n",
        "# Tambahkan 'semangka' di akhir list\n",
        "buah.append('semangka')\n",
        "print(f'daftar buah setelah ditambah semangka = {buah}\\n')\n",
        "\n",
        "# Sisipkan 'durian' di antara 'jeruk' dan 'anggur'\n",
        "buah.insert(3, 'durian')\n",
        "print(f'daftar buah setelah ditambah durian = {buah}\\n')\n",
        "\n",
        "# Hapus 'mangga' dari list\n",
        "buah.remove('mangga')\n",
        "print(f'daftar buah setelah menghapus mangga = {buah}\\n')\n",
        "\n",
        "# Ubah 'pisang' menjadi 'nanas'\n",
        "buah[4] = 'nanas'\n",
        "print(f'daftar buah setelah mengubah pisang = {buah}\\n')\n",
        "\n",
        "# Tampilkan 3 buah pertama\n",
        "print(f'daftar tiga buah pertama = {buah[0]}, {buah[1]}, {buah[2]}')"
      ]
    },
    {
      "cell_type": "markdown",
      "source": [
        "2. Mengurutkan Angka"
      ],
      "metadata": {
        "id": "rievGjPh1wf_"
      }
    },
    {
      "cell_type": "code",
      "source": [
        "angka = [45, 12, 78, 23, 56, 89, 34]\n",
        "\n",
        "# urutkan secara ascending (terkecil -> terbesar)\n",
        "angka.sort()\n",
        "print(f'urutan angka secara ascending = {angka}\\n')\n",
        "\n",
        "# urutkan secara descending\n",
        "angka.reverse()\n",
        "print(f'urutan angka secara descending = {angka}')"
      ],
      "metadata": {
        "id": "tryh7L2MzFWo",
        "colab": {
          "base_uri": "https://localhost:8080/"
        },
        "outputId": "7d1df347-d65d-4e94-b56a-463e40d4b033"
      },
      "execution_count": 23,
      "outputs": [
        {
          "output_type": "stream",
          "name": "stdout",
          "text": [
            "urutan angka secara ascending = [12, 23, 34, 45, 56, 78, 89]\n",
            "\n",
            "urutan angka secara descending = [89, 78, 56, 45, 34, 23, 12]\n"
          ]
        }
      ]
    }
  ]
}